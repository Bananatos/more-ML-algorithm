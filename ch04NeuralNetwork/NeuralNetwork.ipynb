{
 "cells": [
  {
   "cell_type": "code",
   "execution_count": 1,
   "metadata": {},
   "outputs": [],
   "source": [
    "import numpy as np"
   ]
  },
  {
   "cell_type": "markdown",
   "metadata": {},
   "source": [
    "## 1.定义所需函数\n",
    "**(1)sigmoid函数**\n",
    "$$ g(z) = \\frac{1}{1+e^{(-z)}} $$"
   ]
  },
  {
   "cell_type": "code",
   "execution_count": 2,
   "metadata": {},
   "outputs": [],
   "source": [
    "def sigmoid(z):\n",
    "    '''sigmoid函数'''\n",
    "    return 1 / (1 + np.exp(-z))"
   ]
  },
  {
   "cell_type": "markdown",
   "metadata": {},
   "source": [
    "**(2)sigmoid函数的导数**\n",
    "$$ g'(z) = \\frac{e^{-z}}{(1+e^{-z})^2} = \\frac{1}{1+e^{-z}} \\cdot \\frac{e^{-z}}{1+e^{-z}} = g(z) \\cdot (1-g(z)) $$\n",
    "$ a^{(l)}_n $ 表示为第 $ l $ 层第 $ n $ 个激活值，即$ a^{(l)}_n = g(z^{(l)}_n) $ "
   ]
  },
  {
   "cell_type": "code",
   "execution_count": 3,
   "metadata": {},
   "outputs": [],
   "source": [
    "def sigmoidDerivative(a):\n",
    "    '''\n",
    "    对sigmoid函数求导，这里传入的是a值!\n",
    "    a是一个array,表示的是第l层的所有激活值\n",
    "    np.multiply()，向量或矩阵对应位置元素相乘，所得维度与原向量/矩阵相同\n",
    "    '''\n",
    "    return np.multiply(a, (1-a))"
   ]
  },
  {
   "cell_type": "markdown",
   "metadata": {},
   "source": [
    "**(3)初始化权值矩阵** <br/>\n",
    "&emsp;&emsp;初始化 $ \\theta^{l}_{ji} $ <br/>\n",
    "&emsp;&emsp;$ j $ 取值为 $ \\{ 0,1,2,...,N_{(S^{l+1})}\\} $ ， $ i $ 取值为 $ \\{ 0,1,2,...,N_{(S^{l})}+ 1 \\}$ <br/>\n",
    "&emsp;&emsp;$ N_{S^{l}} $ 表示第l层神经元个数"
   ]
  },
  {
   "cell_type": "code",
   "execution_count": 4,
   "metadata": {},
   "outputs": [],
   "source": [
    "def initThetas(hiddenNum, unitNum, inputSize, classNum, epsilon):\n",
    "    '''\n",
    "    初始化权值矩阵\n",
    "    Args:\n",
    "        hiddenNum : 隐藏层数\n",
    "        unitNum : 每个隐藏层的神经元个数\n",
    "        inputSize : 输入层规模\n",
    "        classNum : 分类数目\n",
    "        epsilon : 用来随机初始化权值\n",
    "    Return:\n",
    "        thetas : 权值矩阵\n",
    "    '''\n",
    "    \n",
    "    hiddens = [unitNum for i in range(hiddenNum)]\n",
    "    units = [inputSize] + hiddens + [classNum]\n",
    "    # 例如：units = [3,4,4,3]\n",
    "    thetas = []\n",
    "    for idx, unit in enumerate(units):\n",
    "        if idx == len(units) - 1:\n",
    "            break\n",
    "        nextUnit = units[idx + 1]\n",
    "        \n",
    "        theta = np.random.rand(nextUnit, unit+1) * 2 * epsilon - epsilon\n",
    "        thetas.append(theta)\n",
    "    return thetas"
   ]
  },
  {
   "cell_type": "markdown",
   "metadata": {},
   "source": [
    "**(4)计算代价值函数**\n",
    "$$ J(\\theta) = - \\frac{1}{m}[ \\sum_{i=1}^m \\sum_{k=1}^K y_k^{(i)} \\log(h_\\theta(x^{(i)}))_k + (1-y_k^{(i)})\\log(1-h_\\theta(x^{(i)}))_k]+ \\frac{\\lambda}{2m}\\sum_{l=1}^{L-1} \\sum_{i=1}^{S_l} \\sum_{j=1}^{S_{l+1}} (\\theta_{ji}^{(l)})^2 $$<br/>\n",
    "此处的 $ y_k^{(i)} $ 是指对于第 $ i $ 个样本，分类为 $ k $ 的预测值 <br/><br/>\n",
    "而 $ y^{(i)} $ 为向量 $ [y_1^{(i)},y_2^{(i)},...,y_K^{(i)}] $"
   ]
  },
  {
   "cell_type": "code",
   "execution_count": 5,
   "metadata": {},
   "outputs": [],
   "source": [
    "def computeCost(thetas, y, theLambda, X=None, a=None):\n",
    "    '''\n",
    "    计算代价\n",
    "    Args:\n",
    "        thetas : 权值矩阵序列\n",
    "        X : 样本\n",
    "        y : 标签集\n",
    "        a : 各层激活值\n",
    "    Returns:\n",
    "        J 预测代价\n",
    "    '''\n",
    "    # m为样本数\n",
    "    m = y.shape[0]  \n",
    "    if a is None:\n",
    "        a = fp(thetas, X)\n",
    "    \n",
    "    # 注意，计算代价的时候，我们只需要关注整个网络的预测和标注之间的差异即可，\n",
    "    # 因此只需要看a[-1]。\n",
    "    # 另外一个注意点是：标注y已经被向量化了，有且仅有一位是1，其他都是0\n",
    "    error = -np.sum(np.multiply(y.T,np.log(a[-1])) + np.multiply((1-y).T, np.log(1-a[-1])))\n",
    "    \n",
    "    # 正则化项,L2正则化\n",
    "    reg = np.sum([np.sum(np.multiply(theta[:,1:],theta[:,1:])) for theta in thetas])\n",
    "    return (1.0/m) * error + (1.0/(2*m)) * theLambda * reg\n",
    "    "
   ]
  },
  {
   "cell_type": "markdown",
   "metadata": {},
   "source": [
    "**（5）标签向量化、参数展开成向量、参数恢复成矩阵**"
   ]
  },
  {
   "cell_type": "code",
   "execution_count": 6,
   "metadata": {},
   "outputs": [],
   "source": [
    "def adjustLabels(y):\n",
    "    '''标签向量化\n",
    "\n",
    "    Args:\n",
    "        y : 标签集（数值类型：0,1,2，...,9;此例子时手写数字识别）\n",
    "    Returns:\n",
    "        yAdjusted : 向量化后的标签\n",
    "    '''   \n",
    "    if y.shape[1] == 1:\n",
    "        # np.flatten()返回一份拷贝，对拷贝所做修改不会影响原始矩阵\n",
    "        # 而np.ravel()返回的是视图，修改时会影响原始矩阵 \n",
    "        classes = set(np.ravel(y))\n",
    "        classNum = len(classes)\n",
    "        minClass = min(classes)\n",
    "        if classNum > 2: #多分类，使用向量标注，对应类别位置设置为1\n",
    "            yAdjusted = np.zeros((y.shape[0], classNum), np.float64)\n",
    "            for row, label in enumerate(y):\n",
    "                yAdjusted[row, label - minClass] = 1.0\n",
    "        else: # 二分类\n",
    "            yAdjusted = np.zeros((y.shape[0], 1), np.float64)\n",
    "            for row, label in enumerate(y):\n",
    "                if label != minClass:\n",
    "                    yAdjusted[row,0] = 1.0\n",
    "    return yAdjusted            "
   ]
  },
  {
   "cell_type": "code",
   "execution_count": 7,
   "metadata": {},
   "outputs": [],
   "source": [
    "def unroll(matrixes):\n",
    "    '''\n",
    "    参数展开\n",
    "    Args:\n",
    "        matrixes 矩阵\n",
    "    Return:\n",
    "        vec 向量\n",
    "    '''\n",
    "    \n",
    "    vec = []\n",
    "    for matrix in matrixes:\n",
    "        vector = matrix.reshape(1,-1)[0]\n",
    "        vec = np.concatenate((vec,vector))\n",
    "    return vec"
   ]
  },
  {
   "cell_type": "code",
   "execution_count": 8,
   "metadata": {},
   "outputs": [],
   "source": [
    "def roll(vector, shapes):\n",
    "    '''\n",
    "    参数恢复\n",
    "    Args:\n",
    "        vector 向量\n",
    "        shapes shape list\n",
    "    Returns:\n",
    "        matrixes 恢复的矩阵序列    \n",
    "    '''\n",
    "    matrixes = []\n",
    "    begin = 0\n",
    "    for shape in shapes:\n",
    "        end = begin + shape[0] * shape[1]\n",
    "        matrix = vector[begin:end].reshape(shape)\n",
    "        begin = end\n",
    "        matrixes.append(matrix)\n",
    "    return matrixes"
   ]
  },
  {
   "cell_type": "markdown",
   "metadata": {},
   "source": [
    "**(6)前向反馈过程** <br/>\n",
    "用来计算 $ a^l_i $ ，每一层的激活函数值 "
   ]
  },
  {
   "cell_type": "code",
   "execution_count": 9,
   "metadata": {},
   "outputs": [],
   "source": [
    "def fp(theta, X):\n",
    "    '''\n",
    "    前向反馈过程\n",
    "    Args:\n",
    "        Thetas 权值矩阵\n",
    "        X 输入样本\n",
    "    Returns:\n",
    "        a 各层激活向量\n",
    "    '''\n",
    "    # 计算层数layers = [0,1,2,3]\n",
    "    layers = list(range(len(thetas) + 1))\n",
    "    layerNum = len(layers)\n",
    "    # 激活向量序列\n",
    "    a = list(range(layerNum)) # 要的仅仅是定长list结构，内部元素在下面for循环中被赋值\n",
    "    \n",
    "    # 前向传播计算各层输出\n",
    "    for l in layers:\n",
    "        if l == 0: # 输入层, a即为输入值\n",
    "            a[l] = X.T  # 特征值的排列是竖着的\n",
    "        else:\n",
    "            z = thetas[l - 1] * a[l - 1]\n",
    "            a[l] = sigmoid(z)\n",
    "        \n",
    "        # 除输出层外，需要添加偏置\n",
    "        if l != layerNum - 1:\n",
    "            a[l] = np.concatenate((np.ones((1,a[l].shape[1])), a[l]))\n",
    "    return a\n",
    "                "
   ]
  },
  {
   "cell_type": "markdown",
   "metadata": {},
   "source": [
    "**(7)反向传播过程** <br/>\n",
    "用来计算权值梯度"
   ]
  },
  {
   "cell_type": "code",
   "execution_count": 10,
   "metadata": {},
   "outputs": [],
   "source": [
    "def bp(thetas, a, y, theLambda):\n",
    "    '''反向传播过程\n",
    "\n",
    "    Args:\n",
    "        a 激活值\n",
    "        y 标签\n",
    "    Returns:\n",
    "        D 权值梯度\n",
    "    '''\n",
    "    m = y.shape[0]\n",
    "    layers = list(range(len(thetas) + 1))\n",
    "    layerNum = len(layers)\n",
    "    d = list(range(len(layers)))\n",
    "    delta = [np.zeros(theta.shape) for theta in thetas]\n",
    "    \n",
    "    for l in layers[::-1]: # 反向遍历层\n",
    "        if l == 0:\n",
    "            # 输入层不计算误差\n",
    "            break\n",
    "        if l == layerNum - 1:\n",
    "            # 输出层误差\n",
    "            d[l] = a[l] - y.T\n",
    "        else:\n",
    "            # 忽略偏置\n",
    "            d[l] = np.multiply((thetas[l][:,1:].T * d[l + 1]), sigmoidDerivative(a[l][1:, :]))\n",
    "            \n",
    "    for l in layers[0:layerNum - 1]:\n",
    "        delta[l] += d[l + 1] * (a[l].T)\n",
    "    D = [np.zeros(theta.shape) for theta in thetas]\n",
    "    for l in range(len(thetas)):\n",
    "        theta = thetas[l]\n",
    "        # 偏置更新增量\n",
    "        D[l][:, 0] = (1.0 / m) * (delta[l][0:, 0].reshape(1, -1))\n",
    "        # 权值更新增量\n",
    "        D[l][:, 1:] = (1.0 / m) * (delta[l][0:, 1:] +\n",
    "                                   theLambda * theta[:, 1:])\n",
    "    return D"
   ]
  },
  {
   "cell_type": "markdown",
   "metadata": {},
   "source": [
    "**(8)更新权值**"
   ]
  },
  {
   "cell_type": "code",
   "execution_count": 11,
   "metadata": {},
   "outputs": [],
   "source": [
    "def updateThetas(m, thetas, D, alpha, theLambda):\n",
    "    \"\"\"更新权值\n",
    "\n",
    "    Args:\n",
    "        m 样本数\n",
    "        thetas 各层权值矩阵\n",
    "        D 梯度\n",
    "        alpha 学习率\n",
    "        theLambda 正规化参数\n",
    "    Returns:\n",
    "        Thetas 更新后的权值矩阵\n",
    "    \"\"\"\n",
    "    for l in range(len(thetas)):\n",
    "        thetas[l] = thetas[l] - alpha * D[l]\n",
    "    return thetas"
   ]
  },
  {
   "cell_type": "markdown",
   "metadata": {},
   "source": [
    "**(9)梯度下降**"
   ]
  },
  {
   "cell_type": "code",
   "execution_count": 12,
   "metadata": {},
   "outputs": [],
   "source": [
    "def gradientDescent(thetas, X, y, alpha, theLambda):\n",
    "    \"\"\"梯度下降\n",
    "\n",
    "    Args:\n",
    "        X 样本\n",
    "        y 标签\n",
    "        alpha 学习率\n",
    "        theLambda 正规化参数\n",
    "    Returns:\n",
    "        J 预测代价\n",
    "        Thetas 更新后的各层权值矩阵\n",
    "    \"\"\"\n",
    "    # 样本数，特征数\n",
    "    m, n = X.shape\n",
    "    # 前向传播计算各个神经元的激活值\n",
    "    a = fp(thetas, X)\n",
    "    # 反向传播计算梯度增量\n",
    "    D = bp(thetas, a, y, theLambda)\n",
    "    # 计算预测代价\n",
    "    J = computeCost(thetas,y,theLambda,a=a)\n",
    "    # 更新权值\n",
    "    thetas = updateThetas(m, thetas, D, alpha, theLambda)\n",
    "    if np.isnan(J):\n",
    "        J = np.inf\n",
    "    return J, thetas"
   ]
  },
  {
   "cell_type": "markdown",
   "metadata": {},
   "source": [
    "**(10)梯度校验**"
   ]
  },
  {
   "cell_type": "code",
   "execution_count": 13,
   "metadata": {},
   "outputs": [],
   "source": [
    "def gradientCheck(thetas,X,y,theLambda):\n",
    "    \"\"\"梯度校验\n",
    "\n",
    "    Args:\n",
    "        thetas 权值矩阵\n",
    "        X 样本\n",
    "        y 标签\n",
    "        theLambda 正则化参数\n",
    "    Returns:\n",
    "        checked 是否检测通过\n",
    "    \"\"\"\n",
    "    m, n = X.shape\n",
    "    # 前向传播计算各个神经元的激活值\n",
    "    a = fp(thetas, X)\n",
    "    # 反向传播计算梯度增量\n",
    "    D = bp(thetas, a, y, theLambda)\n",
    "    # 计算预测代价\n",
    "    J = computeCost(thetas, y, theLambda, a=a)\n",
    "    DVec = unroll(D)\n",
    "    \n",
    "    # 数值化计算梯度\n",
    "    epsilon = 1e-4 # 注意，这个epsilon的意义\n",
    "    gradApprox = np.zeros(DVec.shape)\n",
    "    ThetaVec = unroll(thetas)\n",
    "    shapes = [theta.shape for theta in thetas]\n",
    "    for i,item in enumerate(ThetaVec):\n",
    "        ThetaVec[i] = item - epsilon\n",
    "        JMinus = computeCost(roll(ThetaVec,shapes),y,theLambda,X=X)\n",
    "        ThetaVec[i] = item + epsilon\n",
    "        JPlus = computeCost(roll(ThetaVec,shapes),y,theLambda,X=X)\n",
    "        gradApprox[i] = (JPlus-JMinus) / (2*epsilon)\n",
    "        \n",
    "    # 平均差距\n",
    "    diff = np.average(gradApprox - DVec)\n",
    "    #print 'gradient checking diff:', diff # 3.21615931121e-06\n",
    "    if diff < 1e-5:\n",
    "        return True\n",
    "    else:\n",
    "        return False"
   ]
  },
  {
   "cell_type": "markdown",
   "metadata": {},
   "source": [
    "**(11)网络训练**<br/>\n",
    "训练时进行迭代，计算最优参数"
   ]
  },
  {
   "cell_type": "code",
   "execution_count": 14,
   "metadata": {},
   "outputs": [],
   "source": [
    "def train(X, y,checkFlag=False, thetas=None, hiddenNum=0, unitNum=5, epsilon=1, alpha=1, theLambda=0, precision=0.0001, maxIters=50):\n",
    "    \"\"\"网络训练\n",
    "\n",
    "    Args:\n",
    "        X 训练样本\n",
    "        y 标签集\n",
    "        checkFlag 是否进行梯度校验，默认为False，即不进行校验。梯度校验费时\n",
    "        thetas 初始化的Thetas，如果为None，由系统随机初始化Thetas\n",
    "        hiddenNum 隐藏层数目\n",
    "        unitNum 隐藏层的单元数\n",
    "        epsilon 初始化权值的范围[-epsilon, epsilon]\n",
    "        alpha 学习率\n",
    "        theLambda 正规化参数\n",
    "        precision 误差精度\n",
    "        maxIters 最大迭代次数\n",
    "    \"\"\"\n",
    "    # 样本数，特征数\n",
    "    m, n = X.shape\n",
    "    # 标注标签向量化，比如多分类标签要转成向量\n",
    "    y = adjustLabels(y)\n",
    "    classNum = y.shape[1]\n",
    "    # 初始化Theta\n",
    "    if thetas is None:\n",
    "        thetas = initThetas(\n",
    "            inputSize=n,\n",
    "            hiddenNum=hiddenNum,\n",
    "            unitNum=unitNum,\n",
    "            classNum=classNum,\n",
    "            epsilon=epsilon\n",
    "        )\n",
    "        \n",
    "    # 梯度校验\n",
    "    print('Doing Gradient Checking....')\n",
    "    if checkFlag:\n",
    "        checked = gradientCheck(thetas, X, y, theLambda)\n",
    "    else:\n",
    "        checked=True\n",
    "    print('Gradient Checked.')\n",
    "    \n",
    "    if checked:\n",
    "        last_error = np.inf\n",
    "        for i in range(maxIters):\n",
    "            error, thetas = gradientDescent(\n",
    "                thetas, X, y, alpha=alpha, theLambda=theLambda)\n",
    "            if abs(error-last_error) < precision:\n",
    "                last_error = error\n",
    "                break\n",
    "            if error == np.inf:\n",
    "                last_error = error\n",
    "                break\n",
    "            last_error = error\n",
    "        \n",
    "        return {\n",
    "            'error': error,\n",
    "            'thetas': thetas,\n",
    "            'iters': i\n",
    "        }\n",
    "    else:\n",
    "        print('Error: Gradient Cheching Failed!!!')\n",
    "        return {\n",
    "            'error': None,\n",
    "            'Thetas': None,\n",
    "            'iters': 0\n",
    "        }"
   ]
  },
  {
   "cell_type": "markdown",
   "metadata": {},
   "source": [
    "**(12)预测函数**"
   ]
  },
  {
   "cell_type": "code",
   "execution_count": 15,
   "metadata": {},
   "outputs": [],
   "source": [
    "def predict(X, thetas):\n",
    "    \"\"\"预测函数\n",
    "\n",
    "    Args:\n",
    "        X: 样本\n",
    "        thetas: 训练后得到的参数\n",
    "    Return:\n",
    "        a\n",
    "    \"\"\"\n",
    "    a = fp(thetas,X)\n",
    "    return a[-1]"
   ]
  },
  {
   "cell_type": "markdown",
   "metadata": {},
   "source": [
    "## 2.手写数字数据集"
   ]
  },
  {
   "cell_type": "code",
   "execution_count": 16,
   "metadata": {},
   "outputs": [],
   "source": [
    "from scipy.io import loadmat\n",
    "from matplotlib import pyplot\n",
    "%matplotlib inline"
   ]
  },
  {
   "cell_type": "code",
   "execution_count": 17,
   "metadata": {},
   "outputs": [],
   "source": [
    "data = loadmat('data/handwritten_digits.mat')"
   ]
  },
  {
   "cell_type": "code",
   "execution_count": 18,
   "metadata": {},
   "outputs": [
    {
     "data": {
      "text/plain": [
       "(400,)"
      ]
     },
     "execution_count": 18,
     "metadata": {},
     "output_type": "execute_result"
    }
   ],
   "source": [
    "data['X'][0].shape"
   ]
  },
  {
   "cell_type": "code",
   "execution_count": 19,
   "metadata": {},
   "outputs": [
    {
     "name": "stdout",
     "output_type": "stream",
     "text": [
      "[4]\n"
     ]
    },
    {
     "data": {
      "image/png": "[encoded data removed]",
      "text/plain": [
       "<matplotlib.figure.Figure at 0x23ebea48cc0>"
      ]
     },
     "metadata": {},
     "output_type": "display_data"
    }
   ],
   "source": [
    "pyplot.imshow(data['X'][2200].reshape(20,20).T) # 因为mat数据存储的问题，需要转置一下\n",
    "print(data['y'][2200])"
   ]
  },
  {
   "cell_type": "code",
   "execution_count": 20,
   "metadata": {},
   "outputs": [],
   "source": [
    "X = np.mat(data['X'])\n",
    "y = np.mat(data['y'])"
   ]
  },
  {
   "cell_type": "code",
   "execution_count": 21,
   "metadata": {},
   "outputs": [],
   "source": [
    "thetas = loadmat('data/init_weights.mat')\n",
    "thetas = [thetas['Theta1'], thetas['Theta2']]"
   ]
  },
  {
   "cell_type": "code",
   "execution_count": 22,
   "metadata": {},
   "outputs": [
    {
     "name": "stdout",
     "output_type": "stream",
     "text": [
      "Doing Gradient Checking....\n",
      "Gradient Checked.\n"
     ]
    }
   ],
   "source": [
    "res = train(X,y,checkFlag=False, hiddenNum=1,unitNum=25,thetas=thetas,maxIters=500)"
   ]
  },
  {
   "cell_type": "code",
   "execution_count": 23,
   "metadata": {},
   "outputs": [
    {
     "data": {
      "text/plain": [
       "(499, 0.19417985808360613)"
      ]
     },
     "execution_count": 23,
     "metadata": {},
     "output_type": "execute_result"
    }
   ],
   "source": [
    "res['iters'], res['error']"
   ]
  },
  {
   "cell_type": "code",
   "execution_count": 27,
   "metadata": {},
   "outputs": [],
   "source": [
    "def readable_predict(idx, X, thetas):\n",
    "    print('predict:', (np.argmax(predict(X[idx], thetas))+1)) # 网络的标签从0开始\n",
    "    print('real tag:', y[idx].ravel()) # 真实的标签把0标记成了10\n",
    "    pyplot.imshow(X[idx].reshape(20,20).T)"
   ]
  },
  {
   "cell_type": "code",
   "execution_count": 31,
   "metadata": {},
   "outputs": [
    {
     "name": "stdout",
     "output_type": "stream",
     "text": [
      "predict: 10\n",
      "real tag: [[10]]\n"
     ]
    },
    {
     "data": {
      "image/png": "[encoded data removed]",
      "text/plain": [
       "<matplotlib.figure.Figure at 0x23ebefa3358>"
      ]
     },
     "metadata": {},
     "output_type": "display_data"
    }
   ],
   "source": [
    "readable_predict(235, X, res['thetas'])"
   ]
  },
  {
   "cell_type": "code",
   "execution_count": null,
   "metadata": {},
   "outputs": [],
   "source": []
  }
 ],
 "metadata": {
  "kernelspec": {
   "display_name": "Python 3",
   "language": "python",
   "name": "python3"
  },
  "language_info": {
   "codemirror_mode": {
    "name": "ipython",
    "version": 3
   },
   "file_extension": ".py",
   "mimetype": "text/x-python",
   "name": "python",
   "nbconvert_exporter": "python",
   "pygments_lexer": "ipython3",
   "version": "3.6.4"
  }
 },
 "nbformat": 4,
 "nbformat_minor": 2
}
